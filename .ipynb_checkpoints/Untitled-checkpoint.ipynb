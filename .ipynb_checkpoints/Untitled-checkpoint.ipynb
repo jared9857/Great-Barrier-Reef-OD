{
 "cells": [
  {
   "cell_type": "code",
   "execution_count": 10,
   "metadata": {},
   "outputs": [],
   "source": [
    "%matplotlib inline\n",
    "from PIL import Image\n",
    "import pandas as pd\n",
    "import numpy as np\n",
    "import tensorflow as tf\n",
    "from sklearn.ensemble import RandomForestClassifier\n",
    "from sklearn.model_selection import cross_val_score"
   ]
  },
  {
   "cell_type": "code",
   "execution_count": 2,
   "metadata": {},
   "outputs": [],
   "source": [
    "video_0df = pd.read_csv('data/video_0_resized')\n",
    "video_1df = pd.read_csv('data/video_1_resized')\n",
    "video_2df = pd.read_csv('data/video_2_resized')"
   ]
  },
  {
   "cell_type": "code",
   "execution_count": 13,
   "metadata": {},
   "outputs": [
    {
     "data": {
      "text/plain": [
       "'[[[  0 209 252]\\r\\n  [  2 206 255]\\r\\n  [  3 198 254]\\r\\n  ...\\r\\n  [  0 129 243]\\r\\n  [  0 130 244]\\r\\n  [  0 129 243]]\\r\\n\\r\\n [[  3 209 255]\\r\\n  [  1 210 255]\\r\\n  [  0 194 250]\\r\\n  ...\\r\\n  [  0 129 243]\\r\\n  [  0 129 243]\\r\\n  [  0 129 243]]\\r\\n\\r\\n [[  3 204 253]\\r\\n  [  2 213 255]\\r\\n  [  0 196 252]\\r\\n  ...\\r\\n  [  0 129 243]\\r\\n  [  0 129 243]\\r\\n  [  0 129 243]]\\r\\n\\r\\n ...\\r\\n\\r\\n [[ 41 132 179]\\r\\n  [ 50 179 186]\\r\\n  [ 62 169 165]\\r\\n  ...\\r\\n  [  2 161 217]\\r\\n  [  7 160 218]\\r\\n  [  1 170 232]]\\r\\n\\r\\n [[ 46 139 183]\\r\\n  [ 46 178 182]\\r\\n  [ 66 180 170]\\r\\n  ...\\r\\n  [  1 156 213]\\r\\n  [  3 153 211]\\r\\n  [  2 158 221]]\\r\\n\\r\\n [[ 72 164 209]\\r\\n  [ 41 172 176]\\r\\n  [ 54 178 160]\\r\\n  ...\\r\\n  [  0 157 211]\\r\\n  [  0 153 209]\\r\\n  [  2 167 224]]]'"
      ]
     },
     "execution_count": 13,
     "metadata": {},
     "output_type": "execute_result"
    }
   ],
   "source": [
    "image = video_0df['image'][67]\n",
    "image"
   ]
  },
  {
   "cell_type": "code",
   "execution_count": 11,
   "metadata": {},
   "outputs": [
    {
     "ename": "AttributeError",
     "evalue": "'str' object has no attribute '__array_interface__'",
     "output_type": "error",
     "traceback": [
      "\u001b[1;31m---------------------------------------------------------------------------\u001b[0m",
      "\u001b[1;31mAttributeError\u001b[0m                            Traceback (most recent call last)",
      "\u001b[1;32m<ipython-input-11-8c6f14c95d4d>\u001b[0m in \u001b[0;36m<module>\u001b[1;34m\u001b[0m\n\u001b[1;32m----> 1\u001b[1;33m \u001b[0mim\u001b[0m \u001b[1;33m=\u001b[0m \u001b[0mImage\u001b[0m\u001b[1;33m.\u001b[0m\u001b[0mfromarray\u001b[0m\u001b[1;33m(\u001b[0m\u001b[0mimage\u001b[0m\u001b[1;33m)\u001b[0m\u001b[1;33m\u001b[0m\u001b[1;33m\u001b[0m\u001b[0m\n\u001b[0m",
      "\u001b[1;32mD:\\Anaconda\\envs\\learn-env\\lib\\site-packages\\PIL\\Image.py\u001b[0m in \u001b[0;36mfromarray\u001b[1;34m(obj, mode)\u001b[0m\n\u001b[0;32m   2739\u001b[0m     \u001b[1;33m.\u001b[0m\u001b[1;33m.\u001b[0m \u001b[0mversionadded\u001b[0m\u001b[1;33m:\u001b[0m\u001b[1;33m:\u001b[0m \u001b[1;36m1.1\u001b[0m\u001b[1;36m.6\u001b[0m\u001b[1;33m\u001b[0m\u001b[1;33m\u001b[0m\u001b[0m\n\u001b[0;32m   2740\u001b[0m     \"\"\"\n\u001b[1;32m-> 2741\u001b[1;33m     \u001b[0marr\u001b[0m \u001b[1;33m=\u001b[0m \u001b[0mobj\u001b[0m\u001b[1;33m.\u001b[0m\u001b[0m__array_interface__\u001b[0m\u001b[1;33m\u001b[0m\u001b[1;33m\u001b[0m\u001b[0m\n\u001b[0m\u001b[0;32m   2742\u001b[0m     \u001b[0mshape\u001b[0m \u001b[1;33m=\u001b[0m \u001b[0marr\u001b[0m\u001b[1;33m[\u001b[0m\u001b[1;34m\"shape\"\u001b[0m\u001b[1;33m]\u001b[0m\u001b[1;33m\u001b[0m\u001b[1;33m\u001b[0m\u001b[0m\n\u001b[0;32m   2743\u001b[0m     \u001b[0mndim\u001b[0m \u001b[1;33m=\u001b[0m \u001b[0mlen\u001b[0m\u001b[1;33m(\u001b[0m\u001b[0mshape\u001b[0m\u001b[1;33m)\u001b[0m\u001b[1;33m\u001b[0m\u001b[1;33m\u001b[0m\u001b[0m\n",
      "\u001b[1;31mAttributeError\u001b[0m: 'str' object has no attribute '__array_interface__'"
     ]
    }
   ],
   "source": [
    "im = Image.fromarray(image)"
   ]
  },
  {
   "cell_type": "code",
   "execution_count": null,
   "metadata": {},
   "outputs": [],
   "source": []
  }
 ],
 "metadata": {
  "kernelspec": {
   "display_name": "Python (learn-env)",
   "language": "python",
   "name": "learn-env"
  },
  "language_info": {
   "codemirror_mode": {
    "name": "ipython",
    "version": 3
   },
   "file_extension": ".py",
   "mimetype": "text/x-python",
   "name": "python",
   "nbconvert_exporter": "python",
   "pygments_lexer": "ipython3",
   "version": "3.8.5"
  }
 },
 "nbformat": 4,
 "nbformat_minor": 4
}
