{
 "cells": [
  {
   "cell_type": "code",
   "execution_count": 13,
   "metadata": {},
   "outputs": [],
   "source": [
    "%matplotlib inline\n",
    "from PIL import Image\n",
    "import pandas as pd\n",
    "import numpy as np\n",
    "import tensorflow as tf\n",
    "from sklearn.ensemble import RandomForestClassifier\n",
    "from sklearn.model_selection import cross_val_score\n",
    "import matplotlib.image as image\n",
    "import cv2\n",
    "from os import listdir"
   ]
  },
  {
   "cell_type": "code",
   "execution_count": 5,
   "metadata": {},
   "outputs": [
    {
     "data": {
      "text/html": [
       "<div>\n",
       "<style scoped>\n",
       "    .dataframe tbody tr th:only-of-type {\n",
       "        vertical-align: middle;\n",
       "    }\n",
       "\n",
       "    .dataframe tbody tr th {\n",
       "        vertical-align: top;\n",
       "    }\n",
       "\n",
       "    .dataframe thead th {\n",
       "        text-align: right;\n",
       "    }\n",
       "</style>\n",
       "<table border=\"1\" class=\"dataframe\">\n",
       "  <thead>\n",
       "    <tr style=\"text-align: right;\">\n",
       "      <th></th>\n",
       "      <th>Unnamed: 0</th>\n",
       "      <th>image</th>\n",
       "    </tr>\n",
       "  </thead>\n",
       "  <tbody>\n",
       "    <tr>\n",
       "      <th>0</th>\n",
       "      <td>0</td>\n",
       "      <td>[[[102 230 212]\\r\\n  [140 211 229]\\r\\n  [ 76 2...</td>\n",
       "    </tr>\n",
       "    <tr>\n",
       "      <th>1</th>\n",
       "      <td>1</td>\n",
       "      <td>[[[103 235 222]\\r\\n  [ 65 176 233]\\r\\n  [ 46 1...</td>\n",
       "    </tr>\n",
       "    <tr>\n",
       "      <th>2</th>\n",
       "      <td>2</td>\n",
       "      <td>[[[ 35 154 204]\\r\\n  [ 22 152 198]\\r\\n  [ 22 1...</td>\n",
       "    </tr>\n",
       "    <tr>\n",
       "      <th>3</th>\n",
       "      <td>3</td>\n",
       "      <td>[[[ 14 164 223]\\r\\n  [  0 184 241]\\r\\n  [ 15 1...</td>\n",
       "    </tr>\n",
       "    <tr>\n",
       "      <th>4</th>\n",
       "      <td>4</td>\n",
       "      <td>[[[  3 152 224]\\r\\n  [  3 181 225]\\r\\n  [  4 1...</td>\n",
       "    </tr>\n",
       "  </tbody>\n",
       "</table>\n",
       "</div>"
      ],
      "text/plain": [
       "   Unnamed: 0                                              image\n",
       "0           0  [[[102 230 212]\\r\\n  [140 211 229]\\r\\n  [ 76 2...\n",
       "1           1  [[[103 235 222]\\r\\n  [ 65 176 233]\\r\\n  [ 46 1...\n",
       "2           2  [[[ 35 154 204]\\r\\n  [ 22 152 198]\\r\\n  [ 22 1...\n",
       "3           3  [[[ 14 164 223]\\r\\n  [  0 184 241]\\r\\n  [ 15 1...\n",
       "4           4  [[[  3 152 224]\\r\\n  [  3 181 225]\\r\\n  [  4 1..."
      ]
     },
     "execution_count": 5,
     "metadata": {},
     "output_type": "execute_result"
    }
   ],
   "source": [
    "video_0df = pd.read_csv('data/video_0_resized',index_col='Unnamed: 0',dtype=)\n",
    "video_1df = pd.read_csv('data/video_1_resized')\n",
    "video_2df = pd.read_csv('data/video_2_resized')\n",
    "video_0df.head()"
   ]
  },
  {
   "cell_type": "code",
   "execution_count": 88,
   "metadata": {},
   "outputs": [
    {
     "name": "stdout",
     "output_type": "stream",
     "text": [
      "<class 'str'>\n"
     ]
    },
    {
     "data": {
      "text/plain": [
       "str"
      ]
     },
     "execution_count": 88,
     "metadata": {},
     "output_type": "execute_result"
    }
   ],
   "source": [
    "image = video_0df['image'][67]\n",
    "print(type(image))\n",
    "image = image.replace('\\n',\"\")\n",
    "image = image.replace('\\r',\"-\")\n",
    "image = image.replace('...','')\n",
    "image = image.split('-')\n",
    "type(image[1])"
   ]
  },
  {
   "cell_type": "code",
   "execution_count": 83,
   "metadata": {},
   "outputs": [
    {
     "data": {
      "text/plain": [
       "'[[[  0 209 252]\\r\\n  [  2 206 255]\\r\\n  [  3 198 254]\\r\\n  ...\\r\\n  [  0 129 243]\\r\\n  [  0 130 244]\\r\\n  [  0 129 243]]\\r\\n\\r\\n [[  3 209 255]\\r\\n  [  1 210 255]\\r\\n  [  0 194 250]\\r\\n  ...\\r\\n  [  0 129 243]\\r\\n  [  0 129 243]\\r\\n  [  0 129 243]]\\r\\n\\r\\n [[  3 204 253]\\r\\n  [  2 213 255]\\r\\n  [  0 196 252]\\r\\n  ...\\r\\n  [  0 129 243]\\r\\n  [  0 129 243]\\r\\n  [  0 129 243]]\\r\\n\\r\\n ...\\r\\n\\r\\n [[ 41 132 179]\\r\\n  [ 50 179 186]\\r\\n  [ 62 169 165]\\r\\n  ...\\r\\n  [  2 161 217]\\r\\n  [  7 160 218]\\r\\n  [  1 170 232]]\\r\\n\\r\\n [[ 46 139 183]\\r\\n  [ 46 178 182]\\r\\n  [ 66 180 170]\\r\\n  ...\\r\\n  [  1 156 213]\\r\\n  [  3 153 211]\\r\\n  [  2 158 221]]\\r\\n\\r\\n [[ 72 164 209]\\r\\n  [ 41 172 176]\\r\\n  [ 54 178 160]\\r\\n  ...\\r\\n  [  0 157 211]\\r\\n  [  0 153 209]\\r\\n  [  2 167 224]]]'"
      ]
     },
     "execution_count": 83,
     "metadata": {},
     "output_type": "execute_result"
    }
   ],
   "source": [
    "video_0df['image'][67]"
   ]
  },
  {
   "cell_type": "code",
   "execution_count": 52,
   "metadata": {},
   "outputs": [
    {
     "ename": "AttributeError",
     "evalue": "'list' object has no attribute 'strip'",
     "output_type": "error",
     "traceback": [
      "\u001b[1;31m---------------------------------------------------------------------------\u001b[0m",
      "\u001b[1;31mAttributeError\u001b[0m                            Traceback (most recent call last)",
      "\u001b[1;32m<ipython-input-52-5cc97637dbbe>\u001b[0m in \u001b[0;36m<module>\u001b[1;34m\u001b[0m\n\u001b[1;32m----> 1\u001b[1;33m \u001b[0mimage\u001b[0m\u001b[1;33m.\u001b[0m\u001b[0mstrip\u001b[0m\u001b[1;33m(\u001b[0m\u001b[1;34m\"\\r\\n'\"\u001b[0m\u001b[1;33m)\u001b[0m\u001b[1;33m\u001b[0m\u001b[1;33m\u001b[0m\u001b[0m\n\u001b[0m",
      "\u001b[1;31mAttributeError\u001b[0m: 'list' object has no attribute 'strip'"
     ]
    }
   ],
   "source": []
  },
  {
   "cell_type": "code",
   "execution_count": 42,
   "metadata": {},
   "outputs": [],
   "source": [
    "image = np.array(image)"
   ]
  },
  {
   "cell_type": "code",
   "execution_count": 43,
   "metadata": {},
   "outputs": [
    {
     "data": {
      "text/plain": [
       "numpy.ndarray"
      ]
     },
     "execution_count": 43,
     "metadata": {},
     "output_type": "execute_result"
    }
   ],
   "source": [
    "type(image)"
   ]
  },
  {
   "cell_type": "code",
   "execution_count": 50,
   "metadata": {},
   "outputs": [
    {
     "data": {
      "text/plain": [
       "array('[[[  0 209 252]\\r\\n  [  2 206 255]\\r\\n  [  3 198 254]\\r\\n  ...\\r\\n  [  0 129 243]\\r\\n  [  0 130 244]\\r\\n  [  0 129 243]]\\r\\n\\r\\n [[  3 209 255]\\r\\n  [  1 210 255]\\r\\n  [  0 194 250]\\r\\n  ...\\r\\n  [  0 129 243]\\r\\n  [  0 129 243]\\r\\n  [  0 129 243]]\\r\\n\\r\\n [[  3 204 253]\\r\\n  [  2 213 255]\\r\\n  [  0 196 252]\\r\\n  ...\\r\\n  [  0 129 243]\\r\\n  [  0 129 243]\\r\\n  [  0 129 243]]\\r\\n\\r\\n ...\\r\\n\\r\\n [[ 41 132 179]\\r\\n  [ 50 179 186]\\r\\n  [ 62 169 165]\\r\\n  ...\\r\\n  [  2 161 217]\\r\\n  [  7 160 218]\\r\\n  [  1 170 232]]\\r\\n\\r\\n [[ 46 139 183]\\r\\n  [ 46 178 182]\\r\\n  [ 66 180 170]\\r\\n  ...\\r\\n  [  1 156 213]\\r\\n  [  3 153 211]\\r\\n  [  2 158 221]]\\r\\n\\r\\n [[ 72 164 209]\\r\\n  [ 41 172 176]\\r\\n  [ 54 178 160]\\r\\n  ...\\r\\n  [  0 157 211]\\r\\n  [  0 153 209]\\r\\n  [  2 167 224]]]',\n",
       "      dtype='<U677')"
      ]
     },
     "execution_count": 50,
     "metadata": {},
     "output_type": "execute_result"
    }
   ],
   "source": [
    "image\n",
    "\n",
    "series.str.strip(\"\\r\\n'\")"
   ]
  },
  {
   "cell_type": "code",
   "execution_count": 11,
   "metadata": {},
   "outputs": [
    {
     "ename": "FileNotFoundError",
     "evalue": "[Errno 2] No such file or directory: 'C:/Users/jared/Flatiron/Capstone/Great-Barrier-Reef-OD/420'",
     "output_type": "error",
     "traceback": [
      "\u001b[1;31m---------------------------------------------------------------------------\u001b[0m",
      "\u001b[1;31mFileNotFoundError\u001b[0m                         Traceback (most recent call last)",
      "\u001b[1;32m<ipython-input-11-e50b60604be5>\u001b[0m in \u001b[0;36m<module>\u001b[1;34m\u001b[0m\n\u001b[1;32m----> 1\u001b[1;33m \u001b[0mimg_data\u001b[0m \u001b[1;33m=\u001b[0m \u001b[0mimage\u001b[0m\u001b[1;33m.\u001b[0m\u001b[0mimread\u001b[0m\u001b[1;33m(\u001b[0m\u001b[1;34m'C:/Users/jared/Flatiron/Capstone/Great-Barrier-Reef-OD/420'\u001b[0m\u001b[1;33m)\u001b[0m\u001b[1;33m\u001b[0m\u001b[1;33m\u001b[0m\u001b[0m\n\u001b[0m",
      "\u001b[1;32mD:\\Anaconda\\envs\\learn-env\\lib\\site-packages\\matplotlib\\image.py\u001b[0m in \u001b[0;36mimread\u001b[1;34m(fname, format)\u001b[0m\n\u001b[0;32m   1484\u001b[0m                     \u001b[0mresponse\u001b[0m \u001b[1;33m=\u001b[0m \u001b[0mio\u001b[0m\u001b[1;33m.\u001b[0m\u001b[0mBytesIO\u001b[0m\u001b[1;33m(\u001b[0m\u001b[0mresponse\u001b[0m\u001b[1;33m.\u001b[0m\u001b[0mread\u001b[0m\u001b[1;33m(\u001b[0m\u001b[1;33m)\u001b[0m\u001b[1;33m)\u001b[0m\u001b[1;33m\u001b[0m\u001b[1;33m\u001b[0m\u001b[0m\n\u001b[0;32m   1485\u001b[0m                 \u001b[1;32mreturn\u001b[0m \u001b[0mimread\u001b[0m\u001b[1;33m(\u001b[0m\u001b[0mresponse\u001b[0m\u001b[1;33m,\u001b[0m \u001b[0mformat\u001b[0m\u001b[1;33m=\u001b[0m\u001b[0mext\u001b[0m\u001b[1;33m)\u001b[0m\u001b[1;33m\u001b[0m\u001b[1;33m\u001b[0m\u001b[0m\n\u001b[1;32m-> 1486\u001b[1;33m     \u001b[1;32mwith\u001b[0m \u001b[0mimg_open\u001b[0m\u001b[1;33m(\u001b[0m\u001b[0mfname\u001b[0m\u001b[1;33m)\u001b[0m \u001b[1;32mas\u001b[0m \u001b[0mimage\u001b[0m\u001b[1;33m:\u001b[0m\u001b[1;33m\u001b[0m\u001b[1;33m\u001b[0m\u001b[0m\n\u001b[0m\u001b[0;32m   1487\u001b[0m         return (_pil_png_to_float_array(image)\n\u001b[0;32m   1488\u001b[0m                 \u001b[1;32mif\u001b[0m \u001b[0misinstance\u001b[0m\u001b[1;33m(\u001b[0m\u001b[0mimage\u001b[0m\u001b[1;33m,\u001b[0m \u001b[0mPIL\u001b[0m\u001b[1;33m.\u001b[0m\u001b[0mPngImagePlugin\u001b[0m\u001b[1;33m.\u001b[0m\u001b[0mPngImageFile\u001b[0m\u001b[1;33m)\u001b[0m \u001b[1;32melse\u001b[0m\u001b[1;33m\u001b[0m\u001b[1;33m\u001b[0m\u001b[0m\n",
      "\u001b[1;32mD:\\Anaconda\\envs\\learn-env\\lib\\site-packages\\PIL\\Image.py\u001b[0m in \u001b[0;36mopen\u001b[1;34m(fp, mode, formats)\u001b[0m\n\u001b[0;32m   2889\u001b[0m \u001b[1;33m\u001b[0m\u001b[0m\n\u001b[0;32m   2890\u001b[0m     \u001b[1;32mif\u001b[0m \u001b[0mfilename\u001b[0m\u001b[1;33m:\u001b[0m\u001b[1;33m\u001b[0m\u001b[1;33m\u001b[0m\u001b[0m\n\u001b[1;32m-> 2891\u001b[1;33m         \u001b[0mfp\u001b[0m \u001b[1;33m=\u001b[0m \u001b[0mbuiltins\u001b[0m\u001b[1;33m.\u001b[0m\u001b[0mopen\u001b[0m\u001b[1;33m(\u001b[0m\u001b[0mfilename\u001b[0m\u001b[1;33m,\u001b[0m \u001b[1;34m\"rb\"\u001b[0m\u001b[1;33m)\u001b[0m\u001b[1;33m\u001b[0m\u001b[1;33m\u001b[0m\u001b[0m\n\u001b[0m\u001b[0;32m   2892\u001b[0m         \u001b[0mexclusive_fp\u001b[0m \u001b[1;33m=\u001b[0m \u001b[1;32mTrue\u001b[0m\u001b[1;33m\u001b[0m\u001b[1;33m\u001b[0m\u001b[0m\n\u001b[0;32m   2893\u001b[0m \u001b[1;33m\u001b[0m\u001b[0m\n",
      "\u001b[1;31mFileNotFoundError\u001b[0m: [Errno 2] No such file or directory: 'C:/Users/jared/Flatiron/Capstone/Great-Barrier-Reef-OD/420'"
     ]
    }
   ],
   "source": [
    "img_data = image.imread('C:/Users/jared/Flatiron/Capstone/Great-Barrier-Reef-OD/420')"
   ]
  },
  {
   "cell_type": "code",
   "execution_count": 24,
   "metadata": {},
   "outputs": [
    {
     "ename": "FileNotFoundError",
     "evalue": "[WinError 3] The system cannot find the path specified: 'C:\\\\Users\\\\jared\\\\Flatiron\\\\Capstone\\\\Great-Barrier-Reef-OD\\\\Data\\\\420'",
     "output_type": "error",
     "traceback": [
      "\u001b[1;31m---------------------------------------------------------------------------\u001b[0m",
      "\u001b[1;31mFileNotFoundError\u001b[0m                         Traceback (most recent call last)",
      "\u001b[1;32m<ipython-input-24-e5791fab1bd3>\u001b[0m in \u001b[0;36m<module>\u001b[1;34m\u001b[0m\n\u001b[1;32m----> 1\u001b[1;33m \u001b[0mpath\u001b[0m \u001b[1;33m=\u001b[0m  \u001b[0mlistdir\u001b[0m\u001b[1;33m(\u001b[0m\u001b[0mpath\u001b[0m\u001b[1;33m=\u001b[0m\u001b[1;34mr'C:\\Users\\jared\\Flatiron\\Capstone\\Great-Barrier-Reef-OD\\Data\\420'\u001b[0m\u001b[1;33m)\u001b[0m\u001b[1;33m\u001b[0m\u001b[1;33m\u001b[0m\u001b[0m\n\u001b[0m\u001b[0;32m      2\u001b[0m \u001b[0mimg_data\u001b[0m \u001b[1;33m=\u001b[0m \u001b[0mimage\u001b[0m\u001b[1;33m.\u001b[0m\u001b[0mimread\u001b[0m\u001b[1;33m(\u001b[0m\u001b[0mpath\u001b[0m\u001b[1;33m)\u001b[0m\u001b[1;33m\u001b[0m\u001b[1;33m\u001b[0m\u001b[0m\n",
      "\u001b[1;31mFileNotFoundError\u001b[0m: [WinError 3] The system cannot find the path specified: 'C:\\\\Users\\\\jared\\\\Flatiron\\\\Capstone\\\\Great-Barrier-Reef-OD\\\\Data\\\\420'"
     ]
    }
   ],
   "source": [
    "path =  listdir(path=r'C:\\Users\\jared\\Flatiron\\Capstone\\Great-Barrier-Reef-OD\\Data\\420')\n",
    "img_data = image.imread(path)\n"
   ]
  },
  {
   "cell_type": "code",
   "execution_count": null,
   "metadata": {},
   "outputs": [],
   "source": []
  }
 ],
 "metadata": {
  "kernelspec": {
   "display_name": "Python (learn-env)",
   "language": "python",
   "name": "learn-env"
  },
  "language_info": {
   "codemirror_mode": {
    "name": "ipython",
    "version": 3
   },
   "file_extension": ".py",
   "mimetype": "text/x-python",
   "name": "python",
   "nbconvert_exporter": "python",
   "pygments_lexer": "ipython3",
   "version": "3.8.5"
  }
 },
 "nbformat": 4,
 "nbformat_minor": 4
}
